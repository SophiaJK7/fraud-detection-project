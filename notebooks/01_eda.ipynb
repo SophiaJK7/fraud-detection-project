{
 "cells": [
  {
   "cell_type": "markdown",
   "id": "000e9710",
   "metadata": {},
   "source": [
    "# Load raw files and importing"
   ]
  },
  {
   "cell_type": "code",
   "execution_count": null,
   "id": "9685cfbb",
   "metadata": {},
   "outputs": [],
   "source": [
    "import pandas as pd\n",
    "from IPython.display import display\n",
    "import seaborn as sns\n",
    "import matplotlib.pyplot as plt\n",
    "\n",
    "fraud_raw=pd.read_csv(r'D:/Projects - AI & ML/fraud-detection-project/data/raw/Fraud_Data.csv', parse_dates=[\"signup_time\", \"purchase_time\"])\n",
    "ip_raw=pd.read_csv(r'D:/Projects - AI & ML/fraud-detection-project/data/raw/IpAddress_to_Country.csv')\n",
    "credit_raw=pd.read_csv(r'D:/Projects - AI & ML/fraud-detection-project/data/raw/creditcard.csv')"
   ]
  },
  {
   "cell_type": "markdown",
   "id": "e5977cad",
   "metadata": {},
   "source": [
    "# Initial Summary\n",
    "Checks conducted for duplicates, missing and null values. Overviews of shape and datatypes"
   ]
  },
  {
   "cell_type": "code",
   "execution_count": null,
   "id": "f69af7ef",
   "metadata": {},
   "outputs": [],
   "source": [
    "def initial_summary(df, name):\n",
    "    print(f\"\\n=== {name} ===\")\n",
    "    \n",
    "    # Shape\n",
    "    print(\"Shape:\", df.shape)\n",
    "    \n",
    "    # Data types\n",
    "    print(\"\\nData types:\")\n",
    "    print(df.dtypes)\n",
    "\n",
    "    # Check if any nulls exist (overall)\n",
    "    has_nulls = df.isnull().values.any()\n",
    "    print(f\"\\nAny null values present? {has_nulls}\")\n",
    "    \n",
    "    # If there are nulls, list columns + counts\n",
    "    if has_nulls:\n",
    "        null_counts = df.isnull().sum()\n",
    "        print(\"Nulls per column:\")\n",
    "        print(null_counts[null_counts > 0])\n",
    "    \n",
    "    # Missing values\n",
    "    print(\"\\nMissing values per column:\")\n",
    "    print(df.isnull().sum())\n",
    "    \n",
    "    # Duplicate rows\n",
    "    print(\"\\nTotal duplicate rows:\", df.duplicated().sum())\n",
    "    \n",
    "    # Preview\n",
    "    print(\"\\nFirst 5 rows:\")\n",
    "    display(df.head())\n",
    "    \n",
    "# 3. Run summary on each raw dataset\n",
    "initial_summary(fraud_raw,  \"Fraud Data\")\n",
    "initial_summary(credit_raw, \"Credit-Card Data\")\n",
    "initial_summary(ip_raw,     \"IP→Country Mapping\")"
   ]
  },
  {
   "cell_type": "markdown",
   "id": "91475b1b",
   "metadata": {},
   "source": [
    "# Check Class Imbalance in Raw Fraud and CC Data"
   ]
  },
  {
   "cell_type": "code",
   "execution_count": null,
   "id": "e40ad2dd",
   "metadata": {},
   "outputs": [],
   "source": [
    "# Define list of (DataFrame, name, target column)\n",
    "datasets = [\n",
    "    (fraud_raw,  \"Fraud Data\",\"class\"),\n",
    "    (credit_raw, \"Credit-Card Data\",\"Class\")\n",
    "]\n",
    "\n",
    "for df, title, target in datasets:\n",
    "    # 1. Print percentage distribution\n",
    "    pct = df[target].value_counts(normalize=True) * 100\n",
    "    print(f\"\\n{title} — % of each class:\")\n",
    "    print(pct.round(2))\n",
    "    \n",
    "    # 2. Visualize with countplot\n",
    "    plt.figure(figsize=(6,4))\n",
    "    sns.countplot(x=target, data=df)\n",
    "    plt.title(f\"{title} Class Distribution\")\n",
    "    plt.xlabel(\"Class Label\")\n",
    "    plt.ylabel(\"Count\")\n",
    "    plt.show()\n"
   ]
  },
  {
   "cell_type": "markdown",
   "id": "658017cb",
   "metadata": {},
   "source": [
    "# IP Map Distribution & Coverage"
   ]
  },
  {
   "cell_type": "code",
   "execution_count": null,
   "id": "ca1f7ee6",
   "metadata": {},
   "outputs": [],
   "source": [
    "# 1. How many unique countries?\n",
    "n_countries = ipmap_df['country'].nunique()\n",
    "print(f\"Unique countries in map: {n_countries}\")\n",
    "\n",
    "# 2. Top 10 countries by number of IP ranges\n",
    "top10 = ipmap_df['country'].value_counts().head(10)\n",
    "print(\"\\nTop 10 countries by IP-range count:\")\n",
    "print(top10)\n",
    "\n",
    "# 3. Bar plot of those top 10\n",
    "plt.figure(figsize=(8,5))\n",
    "sns.barplot(x=top10.values, y=top10.index, palette=\"magma\")\n",
    "plt.title(\"Top 10 Countries by IP-Range Count\")\n",
    "plt.xlabel(\"Number of Ranges\")\n",
    "plt.ylabel(\"Country\")\n",
    "plt.show()\n",
    "\n",
    "# 4. IP coverage min/max\n",
    "print(\"\\nGlobal IP-range covered:\")\n",
    "print(\"Min lower bound:\", ipmap_df['lower'].min())\n",
    "print(\"Max upper bound:\", ipmap_df['upper'].max())\n"
   ]
  }
 ],
 "metadata": {
  "kernelspec": {
   "display_name": "venv",
   "language": "python",
   "name": "python3"
  },
  "language_info": {
   "codemirror_mode": {
    "name": "ipython",
    "version": 3
   },
   "file_extension": ".py",
   "mimetype": "text/x-python",
   "name": "python",
   "nbconvert_exporter": "python",
   "pygments_lexer": "ipython3",
   "version": "3.13.3"
  }
 },
 "nbformat": 4,
 "nbformat_minor": 5
}
