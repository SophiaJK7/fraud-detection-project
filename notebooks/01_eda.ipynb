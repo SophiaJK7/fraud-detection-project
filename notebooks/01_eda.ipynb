{
 "cells": [
  {
   "cell_type": "markdown",
   "id": "000e9710",
   "metadata": {},
   "source": [
    "# Load raw files and importing"
   ]
  },
  {
   "cell_type": "code",
   "execution_count": null,
   "id": "9685cfbb",
   "metadata": {},
   "outputs": [],
   "source": [
    "import pandas as pd\n",
    "from IPython.display import display\n",
    "import seaborn as sns\n",
    "import matplotlib.pyplot as plt\n",
    "\n",
    "fraud_raw=pd.read_csv(r'D:/Projects - AI & ML/fraud-detection-project/data/raw/Fraud_Data.csv', parse_dates=[\"signup_time\", \"purchase_time\"])\n",
    "ip_raw=pd.read_csv(r'D:/Projects - AI & ML/fraud-detection-project/data/raw/IpAddress_to_Country.csv')\n",
    "credit_raw=pd.read_csv(r'D:/Projects - AI & ML/fraud-detection-project/data/raw/creditcard.csv')"
   ]
  },
  {
   "cell_type": "markdown",
   "id": "e5977cad",
   "metadata": {},
   "source": [
    "# Initial Summary\n",
    "Checks conducted for duplicates, missing and null values. Overviews of shape and datatypes"
   ]
  },
  {
   "cell_type": "code",
   "execution_count": null,
   "id": "f69af7ef",
   "metadata": {},
   "outputs": [],
   "source": [
    "def initial_summary(df, name):\n",
    "    print(f\"\\n=== {name} ===\")\n",
    "    \n",
    "    # Shape\n",
    "    print(\"Shape:\", df.shape)\n",
    "    \n",
    "    # Data types\n",
    "    print(\"\\nData types:\")\n",
    "    print(df.dtypes)\n",
    "\n",
    "    # Check if any nulls exist (overall)\n",
    "    has_nulls = df.isnull().values.any()\n",
    "    print(f\"\\nAny null values present? {has_nulls}\")\n",
    "    \n",
    "    # If there are nulls, list columns + counts\n",
    "    if has_nulls:\n",
    "        null_counts = df.isnull().sum()\n",
    "        print(\"Nulls per column:\")\n",
    "        print(null_counts[null_counts > 0])\n",
    "    \n",
    "    # Missing values\n",
    "    print(\"\\nMissing values per column:\")\n",
    "    print(df.isnull().sum())\n",
    "    \n",
    "    # Duplicate rows\n",
    "    print(\"\\nTotal duplicate rows:\", df.duplicated().sum())\n",
    "    \n",
    "    # Preview\n",
    "    print(\"\\nFirst 5 rows:\")\n",
    "    display(df.head())\n",
    "    \n",
    "# 3. Run summary on each raw dataset\n",
    "initial_summary(fraud_raw,  \"Fraud Data\")\n",
    "initial_summary(credit_raw, \"Credit-Card Data\")\n",
    "initial_summary(ip_raw,     \"IP→Country Mapping\")"
   ]
  },
  {
   "cell_type": "markdown",
   "id": "98300a46",
   "metadata": {},
   "source": [
    "Initial audit shows that credit card data has 1081 duplicate rows. Next step is to drop duplicates and align schema with the fraud table.\n",
    "In the credit dataset, there is no user_id, so any repeat in Time,V1...V28, Amount, Class is almost certainly a data‐entry or merge artifact not a repeat transaction"
   ]
  },
  {
   "cell_type": "markdown",
   "id": "1590b90a",
   "metadata": {},
   "source": [
    "# Handling Duplicate CC Transactions"
   ]
  },
  {
   "cell_type": "code",
   "execution_count": null,
   "id": "61285c4c",
   "metadata": {},
   "outputs": [],
   "source": [
    "# Remove duplicates in credit_raw\n",
    "print(\"Duplicates before:\", credit_raw.duplicated().sum())\n",
    "\n",
    "credit_raw = (\n",
    "    credit_raw\n",
    "    .drop_duplicates()\n",
    "    .reset_index(drop=True)\n",
    ")\n",
    "\n",
    "print(\"Shape after deduplication:\", credit_raw.shape)\n",
    "print(\"Duplicates after :\", credit_raw.duplicated().sum())"
   ]
  },
  {
   "cell_type": "code",
   "execution_count": null,
   "id": "bc7ce3d4",
   "metadata": {},
   "outputs": [],
   "source": [
    "# Rename Class → class to streamline later merges and analyses in line with fraud dataset\n",
    "credit_raw.rename(columns={'Class':'class'}, inplace=True)\n",
    "\n",
    "print(\"Columns now:\", credit_raw.columns.tolist())"
   ]
  },
  {
   "cell_type": "code",
   "execution_count": null,
   "id": "1a2a89ca",
   "metadata": {},
   "outputs": [],
   "source": [
    "# Quick sanity check\n",
    "print(\"Any nulls?            \", credit_raw.isnull().any().any())\n",
    "print(\"Total duplicates now:\", credit_raw.duplicated().sum())"
   ]
  },
  {
   "cell_type": "markdown",
   "id": "91475b1b",
   "metadata": {},
   "source": [
    "# Check Class Imbalance in Raw Fraud and CC Data"
   ]
  },
  {
   "cell_type": "code",
   "execution_count": null,
   "id": "e40ad2dd",
   "metadata": {},
   "outputs": [],
   "source": [
    "# Class imbalance for both datasets\n",
    "\n",
    "def plot_class_balance(df, title, palette=\"Set2\"):\n",
    "    # Compute and print percentages\n",
    "    pct = df['class'].value_counts(normalize=True).mul(100).round(2)\n",
    "    print(f\"{title} — Class Distribution (%):\\n{pct}\\n\")\n",
    "    \n",
    "    plt.figure(figsize=(6,4))\n",
    "    sns.countplot(x='class',\n",
    "                  hue='class',\n",
    "                  data=df,\n",
    "                  palette=palette,\n",
    "                  legend=False)\n",
    "    plt.title(f\"{title} Class Distribution\")\n",
    "    plt.xlabel(\"class\")\n",
    "    plt.ylabel(\"count\")\n",
    "    plt.show()\n",
    "\n",
    "for df, name in [(fraud_raw, \"Fraud Data\"), (credit_raw, \"Credit-Card Data\")]:\n",
    "    plot_class_balance(df, name)"
   ]
  },
  {
   "cell_type": "markdown",
   "id": "4eb4ae0d",
   "metadata": {},
   "source": [
    "# Geolocation Merge"
   ]
  },
  {
   "cell_type": "code",
   "execution_count": null,
   "id": "27ea8924",
   "metadata": {},
   "outputs": [],
   "source": [
    "# 1) Convert ip_address to integer\n",
    "fraud_raw['ip_int'] = fraud_raw['ip_address'].astype(int)\n",
    "\n",
    "# 2) Prepare IP→Country map\n",
    "ip_map = ip_raw[['lower_bound_ip_address','upper_bound_ip_address','country']].copy()\n",
    "ip_map['lower'] = ip_map['lower_bound_ip_address'].astype(int)\n",
    "ip_map = ip_map.sort_values('lower')\n",
    "\n",
    "# 3) Merge via pd.merge_asof\n",
    "fraud_geo = pd.merge_asof(\n",
    "    fraud_raw.sort_values('ip_int'),\n",
    "    ip_map[['lower','country']].sort_values('lower'),\n",
    "    left_on='ip_int',\n",
    "    right_on='lower',\n",
    "    direction='backward'\n",
    ").drop(columns=['lower'])\n",
    "\n",
    "# 4) Quick look: top 10 countries\n",
    "plt.figure(figsize=(6,4))\n",
    "sns.countplot(\n",
    "    y='country',\n",
    "    data=fraud_geo,\n",
    "    order=fraud_geo['country'].value_counts().nlargest(10).index,\n",
    "    palette='Set3'\n",
    ")\n",
    "plt.title('Top 10 Countries by E-commerce Transactions')\n",
    "plt.show()"
   ]
  },
  {
   "cell_type": "markdown",
   "id": "2ae3f3bc",
   "metadata": {},
   "source": [
    "- The fraud dataset has moderate imbalance — standard metrics like F1 or AUC can still be meaningful, and class weights might be enough to compensate.\n",
    "- The credit-card dataset is severely skewed — this can mislead any model that predicts \"legit\" every time with 99% accuracy. "
   ]
  },
  {
   "cell_type": "markdown",
   "id": "0d1d1b28",
   "metadata": {},
   "source": [
    "# Merge dataset and check overall skew"
   ]
  },
  {
   "cell_type": "code",
   "execution_count": null,
   "id": "6ad76ac1",
   "metadata": {},
   "outputs": [],
   "source": [
    "# 1. Rename target columns if needed\n",
    "fraud_raw.rename(columns={'Class':'class'}, inplace=True)\n",
    "credit_raw.rename(columns={'Class':'class'}, inplace=True)\n",
    "\n",
    "# 2. Merge\n",
    "full_df = pd.concat([fraud_raw, credit_raw], ignore_index=True)\n",
    "\n",
    "# 3. Inspect combined skew\n",
    "overall_pct = (\n",
    "    full_df['class']\n",
    "      .value_counts(normalize=True)\n",
    "      .mul(100)\n",
    "      .round(2)\n",
    ")\n",
    "print(\"Combined Data — Class Distribution (%):\")\n",
    "print(overall_pct)"
   ]
  },
  {
   "cell_type": "markdown",
   "id": "9c998675",
   "metadata": {},
   "source": [
    "# Feature Preview"
   ]
  },
  {
   "cell_type": "code",
   "execution_count": 16,
   "id": "9707e35c",
   "metadata": {},
   "outputs": [
    {
     "data": {
      "image/png": "[encoded data removed]",
      "text/plain": [
       "<Figure size 600x300 with 1 Axes>"
      ]
     },
     "metadata": {},
     "output_type": "display_data"
    }
   ],
   "source": [
    "# Add time-based features\n",
    "fraud_geo['hour_of_day']      = fraud_geo['purchase_time'].dt.hour\n",
    "fraud_geo['day_of_week']      = fraud_geo['purchase_time'].dt.day_name()\n",
    "fraud_geo['time_since_signup']= (\n",
    "    fraud_geo['purchase_time'] - fraud_geo['signup_time']\n",
    ").dt.total_seconds()\n",
    "\n",
    "# Purchase frequency & velocity\n",
    "fraud_geo = fraud_geo.sort_values(['user_id','purchase_time'])\n",
    "fraud_geo['purchase_count']       = fraud_geo.groupby('user_id')['purchase_time'].transform('count')\n",
    "fraud_geo['prev_purchase_time']   = fraud_geo.groupby('user_id')['purchase_time'].shift(1)\n",
    "fraud_geo['time_since_prev_sec']  = (\n",
    "    fraud_geo['purchase_time'] - fraud_geo['prev_purchase_time']\n",
    ").dt.total_seconds()\n",
    "\n",
    "# plot: purchase hour distribution\n",
    "plt.figure(figsize=(6,3))\n",
    "sns.histplot(fraud_geo['hour_of_day'], bins=24, color='C0')\n",
    "plt.title('E-commerce: Purchase Hour Distribution')\n",
    "plt.show()"
   ]
  },
  {
   "cell_type": "code",
   "execution_count": 21,
   "id": "bcd1fb6a",
   "metadata": {},
   "outputs": [],
   "source": [
    "# Save merged & feature-augmented fraud data for later steps\n",
    "fraud_geo.to_csv('D:/Projects - AI & ML/fraud-detection-project/data/processed/fraud_geo.csv', index=False)"
   ]
  }
 ],
 "metadata": {
  "kernelspec": {
   "display_name": "venv (3.13.3)",
   "language": "python",
   "name": "python3"
  },
  "language_info": {
   "codemirror_mode": {
    "name": "ipython",
    "version": 3
   },
   "file_extension": ".py",
   "mimetype": "text/x-python",
   "name": "python",
   "nbconvert_exporter": "python",
   "pygments_lexer": "ipython3",
   "version": "3.13.3"
  }
 },
 "nbformat": 4,
 "nbformat_minor": 5
}
